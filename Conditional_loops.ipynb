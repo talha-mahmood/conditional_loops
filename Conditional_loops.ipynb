{
  "nbformat": 4,
  "nbformat_minor": 0,
  "metadata": {
    "colab": {
      "provenance": []
    },
    "kernelspec": {
      "name": "python3",
      "display_name": "Python 3"
    },
    "language_info": {
      "name": "python"
    }
  },
  "cells": [
    {
      "cell_type": "markdown",
      "source": [
        "Conditional Statements\n",
        "1. Even or Odd: Write a program to check if the number 15 is even or odd and print the\n",
        "result.\n",
        "2. Positive, Negative or Zero: Write a program to check if the number -7 is positive,\n",
        "negative, or zero and print the result.\n",
        "3. Leap Year: Write a program to determine if the year 2024 is a leap year and print the\n",
        "result.\n",
        "4. Grade Calculator: Write a program that assigns grades based on marks and get marks\n",
        "from user input: A for marks &gt;= 90, B for marks &gt;= 80, C for marks &gt;= 70, D for marks\n",
        "&gt;= 60, and F for marks &lt; 60.\n",
        "5. Maximum of Three: Write a program to find the maximum of the three numbers 5, 10,\n",
        "and 15, and print the result.\n",
        "6. Divisibility Check: Write a program to check if the number 55 is divisible by both 5 and\n",
        "11, and print the result.\n",
        "7. Password Validation: Write a program to validate a password with the criteria: length\n",
        "&gt;= 8, contains uppercase, lowercase, and digits.\n",
        "8. Character Type: Write a program to determine if the character &#39;@&#39; is a vowel,\n",
        "consonant, digit, or special character, and print the result.\n",
        "9. Triangle Type: Write a program to determine the type of triangle based on side lengths\n",
        "3, 4, and 5 (equilateral, isosceles, or scalene) and print the result.\n",
        "10. Age Group: Write a program to categorize age 25 into groups: Child (age &lt; 13),\n",
        "Teenager (13 &lt;= age &lt; 20), Adult (20 &lt;= age &lt; 60), Senior (age &gt;= 60) and print the\n",
        "result.\n",
        "11. Weather Advice: Write conditional statements that give advice based on the weather:\n",
        " If it&#39;s sunny, print &quot;Wear sunglasses.&quot;\n",
        " If it&#39;s raining, print &quot;Take an umbrella.&quot;\n",
        " If it&#39;s snowing, print &quot;Wear a coat.&quot;\n",
        "12. Day of the Week: Write conditional statements that print whether a given day is a\n",
        "weekday or weekend:\n",
        "1. Weekdays: Monday to Friday\n",
        "2. Weekends: Saturday and Sunday\n",
        "\n",
        "13. Bank Transaction: Write conditional statements to check if a bank transaction is valid:\n",
        " If the account balance is sufficient, print &quot;Transaction approved.&quot;\n",
        " If not, print &quot;Insufficient funds.&quot;\n",
        "14. Age Group: Write conditional statements to categorize a person based on age:\n",
        " Child: 0-12\n",
        " Teen: 13-19\n",
        " Adult: 20-64\n",
        " Senior: 65+\n",
        "\n",
        "Combining Arrays, Tuples, and Conditionals\n",
        "15. List and Conditions: Given a list of integers [1, 2, 3, 4, 5, 6, 7, 8, 9, 10],\n",
        "create a new list containing only the even integers and print it.\n",
        "16. Tuple and Conditions: Given a tuple of integers (1, -2, 3, -4, 5), create a new\n",
        "tuple containing only the positive integers and print it.\n",
        "17. Convert and Compare: Convert the list [1, 2, 3] to a tuple and check if the element 2\n",
        "exists in both the list and the tuple, then print the result.\n",
        "18. Conditional Count: Given a list of integers [10, 20, 30, 40, 50], count how many\n",
        "elements are greater than 25 and print the result.\n",
        "19. Filter List with Tuple: Given a list [1, 2, 3, 4, 5] and a tuple (2, 4, 6), filter the\n",
        "list based on elements present in the tuple and print the result.\n",
        "Loops\n",
        "20. Count Down: Write a loop that counts down from 10 to 1 and then prints &quot;Happy New\n",
        "Year!&quot;\n",
        "21. Sum of Numbers: Write a loop that calculates the sum of numbers from 1 to 100.\n",
        "22. Print List: Write a loop that prints each item in a list of fruits.\n",
        "23. Factorial: Write a loop that calculates the factorial of a given number.\n",
        "24. Reverse String: Write a loop that reverses a given string.\n",
        "25. Multiplication Table: Write a loop that prints the multiplication table for a given\n",
        "number.\n",
        "26. Fibonacci Series: Write a loop that prints the first 10 numbers in the Fibonacci series.\n",
        "27. Sum of Even Numbers: Write a loop that calculates the sum of all even numbers\n",
        "between 1 and 50.\n",
        "28. Square of Numbers: Write a loop that prints the square of numbers from 1 to 10.\n",
        "29. Vowel Count: Write a loop that counts the number of vowels in a given string.\n",
        "Combination of Loops and Conditional Statements\n",
        "30. Prime Numbers: Write a loop that prints all prime numbers between 1 and 50.\n",
        "31. Palindrome Check: Write a loop that checks if a given string is a palindrome.\n",
        "32. Number Guessing Game: Implement a simple number guessing game using a loop and\n",
        "conditional statements:\n",
        "1. The program picks a random number between 1 and 100.\n",
        "2. The user guesses the number.\n",
        "3. The program indicates whether the guess is too low, too high, or correct.\n",
        "4. The loop continues until the user guesses the correct number.\n",
        "33. Grade Calculation: Write a loop that calculates the average grade of a list of student\n",
        "scores and assigns a letter grade based on the average.\n",
        "34. List Filtering: Write a loop that filters out all odd numbers from a list of integers and\n",
        "prints the remaining even numbers.\n",
        "35. Temperature Conversion: Write a loop that converts a list of temperatures from Celsius\n",
        "to Fahrenheit.\n",
        "\n",
        "36. Count Occurrences: Write a loop that counts the occurrences of a specific element in a\n",
        "list.\n",
        "37. Matrix Addition: Write nested loops to add two 3x3 matrices.\n",
        "38. String Lengths: Write a loop that prints the length of each string in a list of strings.\n",
        "39. Sum of Digits: Write a loop that calculates the sum of the digits of a given number.\n",
        "40. Password Validation: Write a loop and conditional statements to validate a password\n",
        "based on these criteria:\n",
        "1. At least 8 characters long\n",
        "2. Contains both uppercase and lowercase letters\n",
        "3. Contains at least one numerical digit\n",
        "41. Capitalize Words: Write a loop that capitalizes the first letter of each word in a\n",
        "sentence.\n",
        "42. Divisibility Check: Write a loop that checks if numbers from 1 to 50 are divisible by 3\n",
        "and 5, and prints &quot;Fizz&quot; for 3, &quot;Buzz&quot; for 5, and &quot;FizzBuzz&quot; for both.\n",
        "43. Finding Max and Min: Write a loop that finds the maximum and minimum values in a\n",
        "list of numbers.\n",
        "44. Bubble Sort: Write a loop to implement the bubble sort algorithm on a list of numbers.\n",
        "\n",
        "Advanced Tasks\n",
        "45. Matrix Operations: Ask the user to input a 2D list (matrix) and print its transpose.\n",
        "46. Frequency of Elements: Ask the user to input a list of numbers and count the frequency of each\n",
        "element. Print the result.\n",
        "47. Element Pairing: Ask the user to input two lists and pair elements from both lists into a list of\n",
        "tuples. Print the result.\n",
        "48. Flatten List: Ask the user to input a nested list and flatten it into a single list. Print the result.\n",
        "49. Palindrome Check: Ask the user to input a list of numbers and check if it forms a palindrome.\n",
        "Print the result.\n",
        "\n",
        "Assignment For Home\n",
        "You have a list of dictionaries where each dictionary represents a product in an inventory. Each\n",
        "product has the following attributes: name, price, category, and stock. Write a program that:\n",
        "1. Calculates the total value of the inventory.\n",
        "o The total value is the sum of the price multiplied by the stock for each product.\n",
        "2. Identifies the most expensive product in each category.\n",
        "o Find and print the name and price of the most expensive product in each category.\n",
        "3. Lists products that need restocking.\n",
        "\n",
        "o A product needs restocking if its stock is below 5. Print the names and current\n",
        "stock levels of these products.\n",
        "4. Categorizes products based on their price:\n",
        "o Cheap: Price below $10\n",
        "o Moderate: Price between $10 and $50\n",
        "o Expensive: Price above $50\n",
        "o Print the number of products in each category.\n",
        "Use lists, conditional statements, and loops to complete these tasks."
      ],
      "metadata": {
        "id": "TQTJu2uwB3h7"
      }
    },
    {
      "cell_type": "code",
      "source": [
        "age = 25\n",
        "if age < 13:\n",
        "    print(\"Child\")\n",
        "elif 13 <= age < 20:\n",
        "    print(\"Teenager\")\n",
        "elif 20 <= age < 60:\n",
        "    print(\"Adult\")\n",
        "else:\n",
        "    print(\"Senior\")\n"
      ],
      "metadata": {
        "colab": {
          "base_uri": "https://localhost:8080/"
        },
        "id": "BsOCphmXB4aM",
        "outputId": "7138e9e6-522e-447d-de97-d94c6f689598"
      },
      "execution_count": 28,
      "outputs": [
        {
          "output_type": "stream",
          "name": "stdout",
          "text": [
            "Adult\n"
          ]
        }
      ]
    },
    {
      "cell_type": "code",
      "source": [
        "weather = \"sunny\"  # Change this to \"raining\" or \"snowing\" for different outputs\n",
        "if weather == \"sunny\":\n",
        "    print(\"Wear sunglasses.\")\n",
        "elif weather == \"raining\":\n",
        "    print(\"Take an umbrella.\")\n",
        "elif weather == \"snowing\":\n",
        "    print(\"Wear a coat.\")\n"
      ],
      "metadata": {
        "colab": {
          "base_uri": "https://localhost:8080/"
        },
        "id": "B-ORBk0eCAnA",
        "outputId": "3c5481cd-59f2-48ca-eb07-ec51826c0e17"
      },
      "execution_count": 29,
      "outputs": [
        {
          "output_type": "stream",
          "name": "stdout",
          "text": [
            "Wear sunglasses.\n"
          ]
        }
      ]
    },
    {
      "cell_type": "code",
      "source": [
        "day = \"Saturday\"  # Change this to test different days\n",
        "if day in [\"Monday\", \"Tuesday\", \"Wednesday\", \"Thursday\", \"Friday\"]:\n",
        "    print(f\"{day} is a Weekday.\")\n",
        "elif day in [\"Saturday\", \"Sunday\"]:\n",
        "    print(f\"{day} is a Weekend.\")\n"
      ],
      "metadata": {
        "colab": {
          "base_uri": "https://localhost:8080/"
        },
        "id": "OkDV1FdtCBYj",
        "outputId": "7cba211b-0d2c-47c1-eade-f42acc002ca9"
      },
      "execution_count": 30,
      "outputs": [
        {
          "output_type": "stream",
          "name": "stdout",
          "text": [
            "Saturday is a Weekend.\n"
          ]
        }
      ]
    },
    {
      "cell_type": "code",
      "source": [
        "account_balance = 1000  # Example balance\n",
        "transaction_amount = 500  # Example transaction amount\n",
        "if account_balance >= transaction_amount:\n",
        "    print(\"Transaction approved.\")\n",
        "else:\n",
        "    print(\"Insufficient funds.\")\n"
      ],
      "metadata": {
        "colab": {
          "base_uri": "https://localhost:8080/"
        },
        "id": "1yVQ56eiCBbj",
        "outputId": "97e5913b-8342-4748-c578-58db5d9454c6"
      },
      "execution_count": 31,
      "outputs": [
        {
          "output_type": "stream",
          "name": "stdout",
          "text": [
            "Transaction approved.\n"
          ]
        }
      ]
    },
    {
      "cell_type": "code",
      "source": [
        "numbers = [1, 2, 3, 4, 5, 6, 7, 8, 9, 10]\n",
        "even_numbers = [num for num in numbers if num % 2 == 0]\n",
        "print(\"Even numbers:\", even_numbers)\n"
      ],
      "metadata": {
        "colab": {
          "base_uri": "https://localhost:8080/"
        },
        "id": "UFs5iDnhCBei",
        "outputId": "0b19a23c-7ada-4cd0-a791-e10a529a4fd4"
      },
      "execution_count": 32,
      "outputs": [
        {
          "output_type": "stream",
          "name": "stdout",
          "text": [
            "Even numbers: [2, 4, 6, 8, 10]\n"
          ]
        }
      ]
    },
    {
      "cell_type": "code",
      "source": [
        "numbers = (1, -2, 3, -4, 5)\n",
        "positive_numbers = tuple(num for num in numbers if num > 0)\n",
        "print(\"Positive numbers in tuple:\", positive_numbers)\n"
      ],
      "metadata": {
        "colab": {
          "base_uri": "https://localhost:8080/"
        },
        "id": "1g0etABfCBhm",
        "outputId": "fdd44af0-7eff-456b-81f0-db638ff175e1"
      },
      "execution_count": 33,
      "outputs": [
        {
          "output_type": "stream",
          "name": "stdout",
          "text": [
            "Positive numbers in tuple: (1, 3, 5)\n"
          ]
        }
      ]
    },
    {
      "cell_type": "code",
      "source": [
        "my_list = [1, 2, 3]\n",
        "my_tuple = tuple(my_list)\n",
        "element = 2\n",
        "in_list = element in my_list\n",
        "in_tuple = element in my_tuple\n",
        "print(f\"Element {element} in list: {in_list}, in tuple: {in_tuple}\")\n"
      ],
      "metadata": {
        "colab": {
          "base_uri": "https://localhost:8080/"
        },
        "id": "8yXUtbcmCBki",
        "outputId": "84facc09-c3db-4e7d-cf1e-7bb507fc46d1"
      },
      "execution_count": 34,
      "outputs": [
        {
          "output_type": "stream",
          "name": "stdout",
          "text": [
            "Element 2 in list: True, in tuple: True\n"
          ]
        }
      ]
    },
    {
      "cell_type": "code",
      "source": [
        "num = 5  # Example number\n",
        "for i in range(1, 11):\n",
        "    print(f\"{num} x {i} = {num * i}\")\n"
      ],
      "metadata": {
        "colab": {
          "base_uri": "https://localhost:8080/"
        },
        "id": "guxwpzNzCBn0",
        "outputId": "d67359ce-fdf2-4d32-adef-b38558ba766d"
      },
      "execution_count": 35,
      "outputs": [
        {
          "output_type": "stream",
          "name": "stdout",
          "text": [
            "5 x 1 = 5\n",
            "5 x 2 = 10\n",
            "5 x 3 = 15\n",
            "5 x 4 = 20\n",
            "5 x 5 = 25\n",
            "5 x 6 = 30\n",
            "5 x 7 = 35\n",
            "5 x 8 = 40\n",
            "5 x 9 = 45\n",
            "5 x 10 = 50\n"
          ]
        }
      ]
    },
    {
      "cell_type": "code",
      "source": [
        "a, b = 0, 1\n",
        "for _ in range(10):\n",
        "    print(a, end=\" \")\n",
        "    a, b = b, a + b\n"
      ],
      "metadata": {
        "colab": {
          "base_uri": "https://localhost:8080/"
        },
        "id": "PwkOeEWNCBqm",
        "outputId": "d878ff1f-14c2-4847-8de6-08d94ae7dae2"
      },
      "execution_count": 36,
      "outputs": [
        {
          "output_type": "stream",
          "name": "stdout",
          "text": [
            "0 1 1 2 3 5 8 13 21 34 "
          ]
        }
      ]
    },
    {
      "cell_type": "code",
      "source": [
        "sum_even = sum(i for i in range(1, 51) if i % 2 == 0)\n",
        "print(\"Sum of even numbers between 1 and 50:\", sum_even)\n"
      ],
      "metadata": {
        "colab": {
          "base_uri": "https://localhost:8080/"
        },
        "id": "l7ebn7B2CBtZ",
        "outputId": "83ba5fc1-89a8-4c2d-ef54-5580940f0757"
      },
      "execution_count": 37,
      "outputs": [
        {
          "output_type": "stream",
          "name": "stdout",
          "text": [
            "Sum of even numbers between 1 and 50: 650\n"
          ]
        }
      ]
    },
    {
      "cell_type": "code",
      "source": [
        "for i in range(1, 11):\n",
        "    print(f\"Square of {i}: {i**2}\")\n"
      ],
      "metadata": {
        "colab": {
          "base_uri": "https://localhost:8080/"
        },
        "id": "-MzKD3iHCBwr",
        "outputId": "e0bf54e3-1063-4624-d7ab-512e460485bc"
      },
      "execution_count": 38,
      "outputs": [
        {
          "output_type": "stream",
          "name": "stdout",
          "text": [
            "Square of 1: 1\n",
            "Square of 2: 4\n",
            "Square of 3: 9\n",
            "Square of 4: 16\n",
            "Square of 5: 25\n",
            "Square of 6: 36\n",
            "Square of 7: 49\n",
            "Square of 8: 64\n",
            "Square of 9: 81\n",
            "Square of 10: 100\n"
          ]
        }
      ]
    },
    {
      "cell_type": "code",
      "source": [
        "string = \"Hello World\"  # Example string\n",
        "vowels = \"aeiouAEIOU\"\n",
        "count = sum(1 for char in string if char in vowels)\n",
        "print(\"Number of vowels:\", count)\n"
      ],
      "metadata": {
        "colab": {
          "base_uri": "https://localhost:8080/"
        },
        "id": "cjVmB5W6C2cj",
        "outputId": "701ecba6-c19f-428f-a7fa-a53c6d4699b8"
      },
      "execution_count": 39,
      "outputs": [
        {
          "output_type": "stream",
          "name": "stdout",
          "text": [
            "Number of vowels: 3\n"
          ]
        }
      ]
    },
    {
      "cell_type": "code",
      "source": [
        "for i in range(1, 51):\n",
        "    if i % 3 == 0 and i % 5 == 0:\n",
        "        print(\"FizzBuzz\")\n",
        "    elif i % 3 == 0:\n",
        "        print(\"Fizz\")\n",
        "    elif i % 5 == 0:\n",
        "        print(\"Buzz\")\n",
        "    else:\n",
        "        print(i)\n"
      ],
      "metadata": {
        "colab": {
          "base_uri": "https://localhost:8080/"
        },
        "id": "ulQ5bemjCBzm",
        "outputId": "464d5528-c0a2-46fd-f8c5-6821e7e2ab93"
      },
      "execution_count": 40,
      "outputs": [
        {
          "output_type": "stream",
          "name": "stdout",
          "text": [
            "1\n",
            "2\n",
            "Fizz\n",
            "4\n",
            "Buzz\n",
            "Fizz\n",
            "7\n",
            "8\n",
            "Fizz\n",
            "Buzz\n",
            "11\n",
            "Fizz\n",
            "13\n",
            "14\n",
            "FizzBuzz\n",
            "16\n",
            "17\n",
            "Fizz\n",
            "19\n",
            "Buzz\n",
            "Fizz\n",
            "22\n",
            "23\n",
            "Fizz\n",
            "Buzz\n",
            "26\n",
            "Fizz\n",
            "28\n",
            "29\n",
            "FizzBuzz\n",
            "31\n",
            "32\n",
            "Fizz\n",
            "34\n",
            "Buzz\n",
            "Fizz\n",
            "37\n",
            "38\n",
            "Fizz\n",
            "Buzz\n",
            "41\n",
            "Fizz\n",
            "43\n",
            "44\n",
            "FizzBuzz\n",
            "46\n",
            "47\n",
            "Fizz\n",
            "49\n",
            "Buzz\n"
          ]
        }
      ]
    },
    {
      "cell_type": "code",
      "source": [
        "numbers = [64, 34, 25, 12, 22, 11, 90]\n",
        "n = len(numbers)\n",
        "for i in range(n):\n",
        "    for j in range(0, n-i-1):\n",
        "        if numbers[j] > numbers[j+1]:\n",
        "            numbers[j], numbers[j+1] = numbers[j+1], numbers[j]\n",
        "print(\"Sorted list:\", numbers)\n"
      ],
      "metadata": {
        "colab": {
          "base_uri": "https://localhost:8080/"
        },
        "id": "4rjNQQLGDAKL",
        "outputId": "b0a1eb9d-b4d3-4b96-c87f-579161320a94"
      },
      "execution_count": 41,
      "outputs": [
        {
          "output_type": "stream",
          "name": "stdout",
          "text": [
            "Sorted list: [11, 12, 22, 25, 34, 64, 90]\n"
          ]
        }
      ]
    },
    {
      "cell_type": "code",
      "source": [
        "matrix = [\n",
        "    [1, 2, 3],\n",
        "    [4, 5, 6],\n",
        "    [7, 8, 9]\n",
        "]\n",
        "transpose = [[matrix[j][i] for j in range(len(matrix))] for i in range(len(matrix[0]))]\n",
        "print(\"Transpose of the matrix:\")\n",
        "for row in transpose:\n",
        "    print(row)\n"
      ],
      "metadata": {
        "colab": {
          "base_uri": "https://localhost:8080/"
        },
        "id": "UWxY9R1QCB2s",
        "outputId": "6fba792e-9e33-49d9-c343-8826bc179172"
      },
      "execution_count": 42,
      "outputs": [
        {
          "output_type": "stream",
          "name": "stdout",
          "text": [
            "Transpose of the matrix:\n",
            "[1, 4, 7]\n",
            "[2, 5, 8]\n",
            "[3, 6, 9]\n"
          ]
        }
      ]
    },
    {
      "cell_type": "code",
      "source": [
        "numbers = [1, 2, 2, 3, 3, 3, 4, 4, 4, 4]\n",
        "frequency = {num: numbers.count(num) for num in set(numbers)}\n",
        "print(\"Frequency of elements:\", frequency)\n"
      ],
      "metadata": {
        "colab": {
          "base_uri": "https://localhost:8080/"
        },
        "id": "bIpwejEMCB5a",
        "outputId": "27899853-d2e9-4778-a3a4-8b4efb8abf6b"
      },
      "execution_count": 43,
      "outputs": [
        {
          "output_type": "stream",
          "name": "stdout",
          "text": [
            "Frequency of elements: {1: 1, 2: 2, 3: 3, 4: 4}\n"
          ]
        }
      ]
    },
    {
      "cell_type": "code",
      "source": [
        "list1 = [1, 2, 3]\n",
        "list2 = ['a', 'b', 'c']\n",
        "paired = list(zip(list1, list2))\n",
        "print(\"Paired elements:\", paired)\n"
      ],
      "metadata": {
        "colab": {
          "base_uri": "https://localhost:8080/"
        },
        "id": "Yc2LJRVzCB8q",
        "outputId": "a4f02d76-fa09-42c5-c6e1-ff65d6e63bf6"
      },
      "execution_count": 44,
      "outputs": [
        {
          "output_type": "stream",
          "name": "stdout",
          "text": [
            "Paired elements: [(1, 'a'), (2, 'b'), (3, 'c')]\n"
          ]
        }
      ]
    },
    {
      "cell_type": "code",
      "source": [
        "nested_list = [[1, 2], [3, 4], [5, 6]]\n",
        "flattened_list = [item for sublist in nested_list for item in sublist]\n",
        "print(\"Flattened list:\", flattened_list)\n"
      ],
      "metadata": {
        "colab": {
          "base_uri": "https://localhost:8080/"
        },
        "id": "GI5Zxr3DCB_n",
        "outputId": "a20f94b1-7b6e-4e58-871e-d2af6b3f0f72"
      },
      "execution_count": 45,
      "outputs": [
        {
          "output_type": "stream",
          "name": "stdout",
          "text": [
            "Flattened list: [1, 2, 3, 4, 5, 6]\n"
          ]
        }
      ]
    },
    {
      "cell_type": "code",
      "source": [
        "numbers = [1, 2, 3, 2, 1]\n",
        "if numbers == numbers[::-1]:\n",
        "    print(\"The list forms a palindrome.\")\n",
        "else:\n",
        "    print(\"The list does not form a palindrome.\")\n"
      ],
      "metadata": {
        "colab": {
          "base_uri": "https://localhost:8080/"
        },
        "id": "VyeA65p8CCCQ",
        "outputId": "d5e42081-00d2-44f8-88b2-f56eedb034e3"
      },
      "execution_count": 46,
      "outputs": [
        {
          "output_type": "stream",
          "name": "stdout",
          "text": [
            "The list forms a palindrome.\n"
          ]
        }
      ]
    },
    {
      "cell_type": "code",
      "source": [
        "products = [\n",
        "    {\"name\": \"Product A\", \"price\": 20, \"category\": \"Electronics\", \"stock\": 10},\n",
        "    {\"name\": \"Product B\", \"price\": 5, \"category\": \"Grocery\", \"stock\": 50},\n",
        "    {\"name\": \"Product C\", \"price\": 100, \"category\": \"Electronics\", \"stock\": 2},\n",
        "]\n",
        "total_value = sum(product[\"price\"] * product[\"stock\"] for product in products)\n",
        "print(\"Total value of inventory:\", total_value)\n"
      ],
      "metadata": {
        "colab": {
          "base_uri": "https://localhost:8080/"
        },
        "id": "zioeeMyECCFV",
        "outputId": "00b4e4e5-9b2c-49a0-d31f-44486829d848"
      },
      "execution_count": 47,
      "outputs": [
        {
          "output_type": "stream",
          "name": "stdout",
          "text": [
            "Total value of inventory: 650\n"
          ]
        }
      ]
    },
    {
      "cell_type": "code",
      "source": [
        "categories = {}\n",
        "for product in products:\n",
        "    category = product[\"category\"]\n",
        "    if category not in categories or product[\"price\"] > categories[category][\"price\"]:\n",
        "        categories[category] = product\n",
        "for category, product in categories.items():\n",
        "    print(f\"Most expensive product in {category}: {product['name']} (${product['price']})\")\n"
      ],
      "metadata": {
        "colab": {
          "base_uri": "https://localhost:8080/"
        },
        "id": "828gjQTLCCHx",
        "outputId": "54f2e053-4d0f-4a84-f885-9a1b780ed46a"
      },
      "execution_count": 48,
      "outputs": [
        {
          "output_type": "stream",
          "name": "stdout",
          "text": [
            "Most expensive product in Electronics: Product C ($100)\n",
            "Most expensive product in Grocery: Product B ($5)\n"
          ]
        }
      ]
    }
  ]
}